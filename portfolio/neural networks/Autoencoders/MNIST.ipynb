{
  "cells": [
    {
      "cell_type": "markdown",
      "metadata": {
        "id": "9mWJCnP2j-kG"
      },
      "source": [
        "# Autoencoder with MNIST"
      ]
    },
    {
      "cell_type": "markdown",
      "source": [
        "## Imports"
      ],
      "metadata": {
        "id": "mWkapfBykjD5"
      }
    },
    {
      "cell_type": "code",
      "execution_count": 27,
      "metadata": {
        "id": "rPetXnDHj-kJ"
      },
      "outputs": [],
      "source": [
        "from keras.datasets import mnist\n",
        "import matplotlib.pyplot as plt \n",
        "import numpy as np\n",
        "\n",
        "import torch\n",
        "import torch.nn as nn\n",
        "import torch.nn.functional as F\n",
        "import torch.optim as optim\n",
        "from torchvision import transforms"
      ]
    },
    {
      "cell_type": "markdown",
      "source": [
        "## Load data"
      ],
      "metadata": {
        "id": "3tzcaLJGlvB2"
      }
    },
    {
      "cell_type": "code",
      "execution_count": 2,
      "metadata": {
        "colab": {
          "base_uri": "https://localhost:8080/"
        },
        "id": "bIWbQNA9j-kK",
        "outputId": "ba40f519-1b00-4128-98f4-d6b41e8a47b0"
      },
      "outputs": [
        {
          "output_type": "stream",
          "name": "stdout",
          "text": [
            "Downloading data from https://storage.googleapis.com/tensorflow/tf-keras-datasets/mnist.npz\n",
            "11493376/11490434 [==============================] - 0s 0us/step\n",
            "11501568/11490434 [==============================] - 0s 0us/step\n"
          ]
        }
      ],
      "source": [
        "(train_X, train_y), (test_X, test_y) = mnist.load_data() # Loads training and test set of MNIST"
      ]
    },
    {
      "cell_type": "code",
      "source": [
        "print(f\"Training: {train_X.shape}, testing: {test_X.shape}\")"
      ],
      "metadata": {
        "colab": {
          "base_uri": "https://localhost:8080/"
        },
        "id": "Z8hC-uC9kEXo",
        "outputId": "ba2cdbdb-8642-4983-a829-0919669cba32"
      },
      "execution_count": 3,
      "outputs": [
        {
          "output_type": "stream",
          "name": "stdout",
          "text": [
            "Training: (60000, 28, 28), testing: (10000, 28, 28)\n"
          ]
        }
      ]
    },
    {
      "cell_type": "markdown",
      "source": [
        "## Inspect the data"
      ],
      "metadata": {
        "id": "IdZg7MvEoYTY"
      }
    },
    {
      "cell_type": "code",
      "source": [
        "number_idx = [np.where(test_y == numb)[0][0] for numb in range(10)] # Get first index of every unique number\n",
        "test_img = [test_X[idx] for idx in number_idx] # Get image data of every unique number"
      ],
      "metadata": {
        "id": "llAJboXfl7Wo"
      },
      "execution_count": 17,
      "outputs": []
    },
    {
      "cell_type": "code",
      "source": [
        "fig, axes = plt.subplots(nrows=1, ncols=10, figsize=(10,1), dpi=300)\n",
        "\n",
        "for col, img in zip(axes, test_img):\n",
        "  col.imshow(img, cmap='gray')\n",
        "  col.axis('off')"
      ],
      "metadata": {
        "id": "D2gaZuBqnNlX",
        "outputId": "9f6eb1ce-115c-4b9a-d73d-572f4206601e",
        "colab": {
          "base_uri": "https://localhost:8080/",
          "height": 147
        }
      },
      "execution_count": 25,
      "outputs": [
        {
          "output_type": "display_data",
          "data": {
            "text/plain": [
              "<Figure size 3000x300 with 10 Axes>"
            ],
            "image/png": "[encoded data removed]"
          },
          "metadata": {
            "needs_background": "light"
          }
        }
      ]
    },
    {
      "cell_type": "markdown",
      "source": [
        "## Autoencoder architecture"
      ],
      "metadata": {
        "id": "ezN5lvK0_YAJ"
      }
    },
    {
      "cell_type": "code",
      "source": [
        "# repeatedly reduce the size\n",
        "class Autoencoder_Linear(nn.Module):\n",
        "    def __init__(self):\n",
        "        super().__init__()        \n",
        "        self.encoder = nn.Sequential(\n",
        "            nn.Linear(28 * 28, 128), # (N, 784) -> (N, 128)\n",
        "            nn.ReLU(),\n",
        "            nn.Linear(128, 64),\n",
        "            nn.ReLU(),\n",
        "            nn.Linear(64, 12),\n",
        "            nn.ReLU(),\n",
        "            nn.Linear(12, 3) # -> N, 3\n",
        "        )\n",
        "        \n",
        "        self.decoder = nn.Sequential(\n",
        "            nn.Linear(3, 12),\n",
        "            nn.ReLU(),\n",
        "            nn.Linear(12, 64),\n",
        "            nn.ReLU(),\n",
        "            nn.Linear(64, 128),\n",
        "            nn.ReLU(),\n",
        "            nn.Linear(128, 28 * 28),\n",
        "            nn.Sigmoid()\n",
        "        )\n",
        "\n",
        "    def forward(self, x):\n",
        "        encoded = self.encoder(x)\n",
        "        decoded = self.decoder(encoded)\n",
        "        return decoded"
      ],
      "metadata": {
        "id": "iRTgcKUWqqCL"
      },
      "execution_count": null,
      "outputs": []
    }
  ],
  "metadata": {
    "kernelspec": {
      "display_name": "Python 3.10.5 64-bit",
      "language": "python",
      "name": "python3"
    },
    "language_info": {
      "codemirror_mode": {
        "name": "ipython",
        "version": 3
      },
      "file_extension": ".py",
      "mimetype": "text/x-python",
      "name": "python",
      "nbconvert_exporter": "python",
      "pygments_lexer": "ipython3",
      "version": "3.10.5"
    },
    "orig_nbformat": 4,
    "vscode": {
      "interpreter": {
        "hash": "26de051ba29f2982a8de78e945f0abaf191376122a1563185a90213a26c5da77"
      }
    },
    "colab": {
      "provenance": []
    }
  },
  "nbformat": 4,
  "nbformat_minor": 0
}